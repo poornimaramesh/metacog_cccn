{
 "cells": [
  {
   "cell_type": "code",
   "execution_count": 2,
   "metadata": {},
   "outputs": [],
   "source": [
    "import numpy as np\n",
    "import scipy.spatial\n",
    "import matplotlib.pyplot as plt"
   ]
  },
  {
   "cell_type": "code",
   "execution_count": 3,
   "metadata": {},
   "outputs": [
    {
     "data": {
      "text/plain": [
       "array([[0., 1., 0., 1., 1.],\n",
       "       [0., 1., 1., 0., 0.]])"
      ]
     },
     "execution_count": 3,
     "metadata": {},
     "output_type": "execute_result"
    }
   ],
   "source": [
    "pat = 2\n",
    "sz = 5\n",
    "patterns = np.zeros([pat, sz])\n",
    "ct = 0\n",
    "while ct<pat:\n",
    "    x = np.random.binomial(size=sz, n=1, p=.5)\n",
    "    if np.any(np.isin(x, patterns)):\n",
    "        patterns[ct] = x\n",
    "        ct += 1\n",
    "patterns"
   ]
  },
  {
   "cell_type": "code",
   "execution_count": 4,
   "metadata": {},
   "outputs": [
    {
     "name": "stdout",
     "output_type": "stream",
     "text": [
      "[[ 0.  -0.5  0.   0.   0. ]\n",
      " [-0.5  0.   0.   0.   0. ]\n",
      " [ 0.   0.   0.  -0.5 -0.5]\n",
      " [ 0.   0.  -0.5  0.   0.5]\n",
      " [ 0.   0.  -0.5  0.5  0. ]]\n"
     ]
    }
   ],
   "source": [
    "W = (patterns-.5).T.dot(patterns-.5)\n",
    "W = W - np.diag(np.diag(W))\n",
    "print(W)"
   ]
  },
  {
   "cell_type": "code",
   "execution_count": 5,
   "metadata": {},
   "outputs": [
    {
     "name": "stdout",
     "output_type": "stream",
     "text": [
      "[0. 1. 1. 0. 0.]\n",
      "[0. 1. 1. 0. 0.]\n"
     ]
    }
   ],
   "source": [
    "y = np.zeros(sz)\n",
    "ind = np.random.choice(range(pat))\n",
    "\n",
    "for i, x in enumerate(patterns[ind]):\n",
    "    if np.random.random() < 0.1:\n",
    "        y[i] = np.abs(x - 1.)\n",
    "    else:\n",
    "        y[i] = x\n",
    "\n",
    "print(patterns[ind])\n",
    "print(y)"
   ]
  },
  {
   "cell_type": "code",
   "execution_count": 7,
   "metadata": {},
   "outputs": [
    {
     "name": "stdout",
     "output_type": "stream",
     "text": [
      "[0. 0. 0. 0. 0.]\n"
     ]
    }
   ],
   "source": [
    "x_old = np.array([1, 1, 0, 1, 1])\n",
    "x_new = np.zeros_like(y)\n",
    "\n",
    "while ct<50:\n",
    "    Wx = W.dot(x_old - .5)\n",
    "    x_new = np.heaviside(Wx, 0.)\n",
    "    print(x_new)\n",
    "    x_old = x_new\n",
    "    ct += 1\n",
    "\n",
    "print(x_new)"
   ]
  },
  {
   "cell_type": "code",
   "execution_count": null,
   "metadata": {},
   "outputs": [],
   "source": [
    "0. 1. 1. 0. 0. 0. 0. 1. 1. 0. 1. 1. 0. 1. 1"
   ]
  },
  {
   "cell_type": "code",
   "execution_count": null,
   "metadata": {},
   "outputs": [],
   "source": []
  }
 ],
 "metadata": {
  "kernelspec": {
   "display_name": "Python 3",
   "language": "python",
   "name": "python3"
  },
  "language_info": {
   "codemirror_mode": {
    "name": "ipython",
    "version": 3
   },
   "file_extension": ".py",
   "mimetype": "text/x-python",
   "name": "python",
   "nbconvert_exporter": "python",
   "pygments_lexer": "ipython3",
   "version": "3.6.5"
  }
 },
 "nbformat": 4,
 "nbformat_minor": 2
}
