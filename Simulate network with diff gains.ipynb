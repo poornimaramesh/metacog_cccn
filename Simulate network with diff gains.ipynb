{
 "cells": [
  {
   "cell_type": "code",
   "execution_count": 1,
   "metadata": {},
   "outputs": [],
   "source": [
    "import numpy as np\n",
    "import matplotlib.pyplot as plt\n",
    "from os import path, listdir\n",
    "from os.path import join"
   ]
  },
  {
   "cell_type": "code",
   "execution_count": 2,
   "metadata": {},
   "outputs": [],
   "source": [
    "from plot_props import PlotProps\n",
    "pp = PlotProps()"
   ]
  },
  {
   "cell_type": "code",
   "execution_count": 3,
   "metadata": {},
   "outputs": [],
   "source": [
    "class RNNGain:\n",
    "    def __init__(self, J, Bc, Bs, cx, cz, wo, xo, us, uc, τ, dt, numneur):\n",
    "        self.J = J\n",
    "        self.Bc = Bc\n",
    "        self.Bs = Bs\n",
    "        self.cx = cx\n",
    "        self.cz = cz\n",
    "        self.wo = wo\n",
    "        self.xo =xo\n",
    "        \n",
    "        self.numneur = numneur\n",
    "        self.dt = dt\n",
    "        self.τ = τ\n",
    "        self.us = us\n",
    "        self.uc = uc\n",
    "        \n",
    "    def nonlin(self, x):\n",
    "        return np.tanh(x)\n",
    "    \n",
    "    def update(self, x, ind):\n",
    "        xnew = x + ((self.dt / self.τ) * (J.dot(self.nonlin(x)) +\n",
    "                                          (-x) +\n",
    "                                         self.Bc.dot(self.uc[ind]) +\n",
    "                                         self.Bs.dot(self.us[ind]) +\n",
    "                                         self.cx \n",
    "                                        ))\n",
    "        return xnew\n",
    "    \n",
    "    def activity(self, x):\n",
    "        return self.wo.dot(self.nonlin(x)) + cz\n",
    "    \n",
    "    def simulate(self, numsteps):\n",
    "        xs = np.zeros([numsteps, self.numneur])\n",
    "        z = np.zeros(numsteps)\n",
    "        \n",
    "        xs[0] = self.xo\n",
    "        z[0] = self.activity(self.xo)\n",
    "        \n",
    "        for i in range(1, numsteps):\n",
    "            xs[i] = self.update(xs[i-1], i)\n",
    "            z[i] = self.activity(xs[i])\n",
    "        \n",
    "        return xs, z\n",
    "            "
   ]
  },
  {
   "cell_type": "code",
   "execution_count": 4,
   "metadata": {},
   "outputs": [],
   "source": [
    "source = join('neural_timing', 'results', 'tonic')\n",
    "dest = join('neural_timing', 'figures')\n",
    "\n",
    "a=5"
   ]
  },
  {
   "cell_type": "code",
   "execution_count": 5,
   "metadata": {},
   "outputs": [],
   "source": [
    "params = np.loadtxt(join(source, 'prms_a_%d'%a))\n",
    "tr_time = np.loadtxt(join(source, 'ts_set'))\n",
    "\n",
    "xo = params[:, 0]\n",
    "wo = params[:, 1]\n",
    "Bc = params[:, 2]\n",
    "Bs = params[:, 3]\n",
    "J = params[:, 4:-2]\n",
    "cx = params[:, -2]\n",
    "cz = params[:, -1][0]"
   ]
  },
  {
   "cell_type": "code",
   "execution_count": 6,
   "metadata": {},
   "outputs": [],
   "source": [
    "source_nf = join(source, 'noisefree')\n",
    "cntxt_in_high = np.loadtxt(join(source_nf, 'context_inputs_high_a_%d'%a))\n",
    "cntxt_in_low = np.loadtxt(join(source_nf, 'context_inputs_low_a_%d'%a))\n",
    "set_in = np.loadtxt(join(source_nf, 'set_inputs_a_%d'%a))"
   ]
  },
  {
   "cell_type": "code",
   "execution_count": 7,
   "metadata": {},
   "outputs": [
    {
     "name": "stdout",
     "output_type": "stream",
     "text": [
      "[0.    0.125 0.25  0.375 0.5   0.625 0.75  0.875 1.    1.125 1.25  1.375\n",
      " 1.5   1.625 1.75  1.875 2.    2.125 2.25  2.375 2.5   2.625 2.75  2.875\n",
      " 3.    3.125 3.25  3.375 3.5   3.625 3.75  3.875 4.    4.125 4.25  4.375\n",
      " 4.5   4.625 4.75  4.875 5.   ]\n"
     ]
    }
   ],
   "source": [
    "perf_time = 500\n",
    "perftime_ind = np.where(tr_time*1000==perf_time)[0][0]\n",
    "cntxt_amp = np.arange(.1, 1.125, .025)\n",
    "gains = (cntxt_amp - .1)*5\n",
    "print(gains)"
   ]
  },
  {
   "cell_type": "code",
   "execution_count": 8,
   "metadata": {},
   "outputs": [],
   "source": [
    "dest_res = join(source, 'var_gain')\n",
    "np.savetxt(join(dest_res, 'set_in_t_%d_a_%d'%(perf_time, a)), \n",
    "           set_in[:, perftime_ind])\n"
   ]
  },
  {
   "cell_type": "code",
   "execution_count": 9,
   "metadata": {},
   "outputs": [],
   "source": [
    "cntxt_pos = cntxt_in_low[:, perftime_ind]>0.\n",
    "\n",
    "cntxt = np.zeros_like(cntxt_in_low[:, perftime_ind])\n",
    "cntxt[cntxt_pos] = 1.\n",
    "\n",
    "cntxt = np.array([cntxt*amp for amp in cntxt_amp]).T\n",
    "np.savetxt(join(dest_res, 'cntxt_var_gain'), cntxt)\n",
    "np.savetxt(join(dest_res, 'gains'), gains)"
   ]
  },
  {
   "cell_type": "code",
   "execution_count": 10,
   "metadata": {},
   "outputs": [
    {
     "name": "stdout",
     "output_type": "stream",
     "text": [
      "41\n"
     ]
    }
   ],
   "source": [
    "set_in_sm = set_in[:, perftime_ind]\n",
    "print(len(set_in_sm[set_in_sm>0.]))"
   ]
  },
  {
   "cell_type": "code",
   "execution_count": 11,
   "metadata": {
    "scrolled": false
   },
   "outputs": [
    {
     "name": "stdout",
     "output_type": "stream",
     "text": [
      "704 619\n",
      "749 619\n",
      "794 619\n",
      "843 619\n",
      "893 619\n",
      "946 619\n",
      "1001 619\n",
      "1058 619\n",
      "1115 619\n",
      "1173 619\n",
      "1232 619\n",
      "1292 619\n",
      "1356 619\n",
      "1425 619\n",
      "1502 619\n",
      "1594 619\n",
      "1710 619\n",
      "1867 619\n",
      "2114 619\n",
      "2642 619\n",
      "3300 619\n",
      "3300 619\n",
      "3300 619\n",
      "3300 619\n",
      "3300 619\n",
      "3300 619\n",
      "3300 619\n",
      "3300 619\n",
      "3300 619\n",
      "3300 619\n",
      "3300 619\n",
      "3300 619\n",
      "3300 619\n",
      "3300 619\n",
      "3300 619\n",
      "3300 619\n",
      "3300 619\n",
      "3300 619\n",
      "3300 619\n",
      "3300 619\n",
      "3300 619\n"
     ]
    }
   ],
   "source": [
    "est_time = []\n",
    "xs_list = []\n",
    "z_list = []\n",
    "set_ind = np.where(set_in_sm>0.)[0][-1]\n",
    "\n",
    "Bs_sm = Bs\n",
    "Bc_sm = Bc\n",
    "for gain_ind, gain in enumerate(gains):\n",
    "    us_sm = set_in_sm\n",
    "    uc_sm = cntxt[:, gain_ind]\n",
    "    rnn = RNNGain(J=J, Bc=Bc_sm, Bs=Bs_sm, \n",
    "                  cx=cx, cz=cz, \n",
    "                  wo=wo, xo=xo, \n",
    "                  us=us_sm, \n",
    "                  uc=uc_sm, \n",
    "                  τ=10, \n",
    "                  dt=1, \n",
    "                  numneur=200)\n",
    "    xs, z = rnn.simulate(3300)\n",
    "    xs_list.append(xs)\n",
    "    z_list.append(z) \n",
    "#     np.savetxt(join(dest_res, 'xs_t_%d_gain_%d'%(perf_time, gain_ind+1)), xs)\n",
    "#     np.savetxt(join(dest_res, 'z_t_%d_gain_%d'%(perf_time, gain_ind+1)), z)\n",
    "    try:\n",
    "        end_ind = np.where(z[set_ind:]>1.)[0][0] + set_ind\n",
    "    except IndexError:\n",
    "        end_ind = 3300\n",
    "#     plt.plot(z)\n",
    "#     plt.plot(us_sm)\n",
    "#     plt.plot(uc_sm)\n",
    "#     plt.show()\n",
    "#     print(np.where(z[set_ind:]>1.))\n",
    "    print(end_ind, set_ind)\n",
    "    est_time.append(end_ind - set_ind)\n",
    "    "
   ]
  },
  {
   "cell_type": "code",
   "execution_count": null,
   "metadata": {
    "scrolled": false
   },
   "outputs": [],
   "source": [
    "plt.plot(perf_time*gains[:-6], est_time[:-6], 'o')\n",
    "plt.plot(perf_time*gains, perf_time*gains, 'k--')\n",
    "plt.show()"
   ]
  },
  {
   "cell_type": "code",
   "execution_count": null,
   "metadata": {},
   "outputs": [],
   "source": [
    "plt.plot(set_in_sm)\n",
    "plt.xlim([100, 150])"
   ]
  },
  {
   "cell_type": "markdown",
   "metadata": {},
   "source": [
    "## PCA"
   ]
  },
  {
   "cell_type": "code",
   "execution_count": 12,
   "metadata": {},
   "outputs": [
    {
     "data": {
      "text/plain": [
       "41"
      ]
     },
     "execution_count": 12,
     "metadata": {},
     "output_type": "execute_result"
    }
   ],
   "source": [
    "len(xs_list)"
   ]
  },
  {
   "cell_type": "code",
   "execution_count": null,
   "metadata": {},
   "outputs": [],
   "source": [
    "xs_list_cut = [xs[set_ind:set_ind+t] for xs, t in zip(xs_list, est_time)]"
   ]
  },
  {
   "cell_type": "code",
   "execution_count": 37,
   "metadata": {},
   "outputs": [],
   "source": [
    "num_gains = 5\n",
    "xs_sm = np.vstack(xs_list_cut[:num_gains])"
   ]
  },
  {
   "cell_type": "code",
   "execution_count": 23,
   "metadata": {},
   "outputs": [],
   "source": [
    "mean = xs_sm.mean(axis=0)\n",
    "xs_sm_cent = xs_sm - mean "
   ]
  },
  {
   "cell_type": "code",
   "execution_count": 24,
   "metadata": {},
   "outputs": [],
   "source": [
    "cov = xs_sm_cent.T.dot(xs_sm_cent)\n",
    "eig, vec = np.linalg.eig(cov)"
   ]
  },
  {
   "cell_type": "code",
   "execution_count": 32,
   "metadata": {},
   "outputs": [],
   "source": [
    "sort = np.argsort(eig)[::-1]\n",
    "eig_sort = eig[sort]\n",
    "vec_sort = vec[:, sort]"
   ]
  },
  {
   "cell_type": "code",
   "execution_count": 79,
   "metadata": {},
   "outputs": [
    {
     "name": "stdout",
     "output_type": "stream",
     "text": [
      "8 12\n"
     ]
    }
   ],
   "source": [
    "import sklearn.linear_model\n",
    "ind1 = np.argwhere(np.array(gains)<=1)[-1].squeeze()\n",
    "ind2 = np.argwhere(np.array(gains)<=1.5)[-1].squeeze()\n",
    "x1 = xs_list_cut[ind1]\n",
    "x2 = xs_list_cut[ind2]\n",
    "\n",
    "\n",
    "xs_lr = np.vstack([x1, x2]) \n",
    "\n",
    "lr = sklearn.linear_model.LogisticRegression()\n",
    "y  = np.hstack([np.ones(len(x1)),\n",
    "                np.zeros(len(x2)),\n",
    "               ]).flatten()\n",
    "\n",
    "lr_fit = lr.fit(X=xs_lr, y=y)\n"
   ]
  },
  {
   "cell_type": "code",
   "execution_count": 95,
   "metadata": {},
   "outputs": [
    {
     "name": "stdout",
     "output_type": "stream",
     "text": [
      "(85, 3)\n",
      "(130, 3)\n",
      "(175, 3)\n",
      "(224, 3)\n",
      "(274, 3)\n",
      "(327, 3)\n",
      "(382, 3)\n"
     ]
    },
    {
     "ename": "IndexError",
     "evalue": "index 1 is out of bounds for axis 0 with size 1",
     "output_type": "error",
     "traceback": [
      "\u001b[0;31m---------------------------------------------------------------------------\u001b[0m",
      "\u001b[0;31mIndexError\u001b[0m                                Traceback (most recent call last)",
      "\u001b[0;32m<ipython-input-95-3eab20ff65c6>\u001b[0m in \u001b[0;36m<module>\u001b[0;34m()\u001b[0m\n\u001b[1;32m     27\u001b[0m \u001b[0;31m# proj_line = np.zeros([2,3])\u001b[0m\u001b[0;34m\u001b[0m\u001b[0;34m\u001b[0m\u001b[0m\n\u001b[1;32m     28\u001b[0m \u001b[0mproj_line\u001b[0m \u001b[0;34m=\u001b[0m \u001b[0mwt\u001b[0m\u001b[0;34m.\u001b[0m\u001b[0mdot\u001b[0m\u001b[0;34m(\u001b[0m\u001b[0mvec_sort\u001b[0m\u001b[0;34m[\u001b[0m\u001b[0;34m:\u001b[0m\u001b[0;34m,\u001b[0m \u001b[0;36m3\u001b[0m\u001b[0;34m]\u001b[0m\u001b[0;34m)\u001b[0m\u001b[0;34m\u001b[0m\u001b[0m\n\u001b[0;32m---> 29\u001b[0;31m \u001b[0max\u001b[0m\u001b[0;34m.\u001b[0m\u001b[0mscatter\u001b[0m\u001b[0;34m(\u001b[0m\u001b[0mproj_line\u001b[0m\u001b[0;34m[\u001b[0m\u001b[0;36m0\u001b[0m\u001b[0;34m]\u001b[0m\u001b[0;34m,\u001b[0m \u001b[0mproj_line\u001b[0m\u001b[0;34m[\u001b[0m\u001b[0;36m1\u001b[0m\u001b[0;34m]\u001b[0m\u001b[0;34m,\u001b[0m \u001b[0mproj_line\u001b[0m\u001b[0;34m[\u001b[0m\u001b[0;36m2\u001b[0m\u001b[0;34m]\u001b[0m\u001b[0;34m,\u001b[0m \u001b[0ms\u001b[0m\u001b[0;34m=\u001b[0m\u001b[0;36m500\u001b[0m\u001b[0;34m,\u001b[0m \u001b[0mcolor\u001b[0m\u001b[0;34m=\u001b[0m\u001b[0;34m'k'\u001b[0m\u001b[0;34m)\u001b[0m\u001b[0;34m\u001b[0m\u001b[0m\n\u001b[0m\u001b[1;32m     30\u001b[0m \u001b[0;34m\u001b[0m\u001b[0m\n\u001b[1;32m     31\u001b[0m \u001b[0mpp\u001b[0m\u001b[0;34m.\u001b[0m\u001b[0mlegend\u001b[0m\u001b[0;34m(\u001b[0m\u001b[0mfontsize\u001b[0m\u001b[0;34m=\u001b[0m\u001b[0;36m10\u001b[0m\u001b[0;34m)\u001b[0m\u001b[0;34m\u001b[0m\u001b[0m\n",
      "\u001b[0;31mIndexError\u001b[0m: index 1 is out of bounds for axis 0 with size 1"
     ]
    }
   ],
   "source": [
    "from mpl_toolkits.mplot3d import Axes3D\n",
    "%matplotlib tk\n",
    "fig = plt.figure()\n",
    "ax = fig.add_subplot(111, projection='3d')\n",
    "plt.ion()\n",
    "\n",
    "ax.set_xlabel('PC1')\n",
    "ax.set_ylabel('PC2')\n",
    "ax.set_zlabel('PC3')\n",
    "\n",
    "# Hide grid lines\n",
    "ax.grid(False)\n",
    "\n",
    "# Hide axes ticks\n",
    "ax.set_xticks([])\n",
    "ax.set_yticks([])\n",
    "ax.set_zticks([])\n",
    "\n",
    "for i, g in enumerate(gains[ind1-1:ind2+2]):\n",
    "    proj = xs_list_cut[i].dot(vec[:, :3])\n",
    "    print(proj.shape)\n",
    "    x = np.real(proj[:, 0])\n",
    "    y = np.real(proj[:, 1])\n",
    "    z = np.real(proj[:, 2])\n",
    "    ax.scatter(x, y, z, label='Gain=%.3f'%g)\n",
    "#     ax.scatter(proj[:, 0], proj[:, 1], proj[:, 2])\n",
    "proj_line = np.zeros([2,3])\n",
    "proj_line[1] = wt.dot(vec_sort[:, 3])\n",
    "ax.plo(proj_line[:, 0], proj_line[:, 1], proj_line[:, 2], s=500, color='k')\n",
    "\n",
    "pp.legend(fontsize=10)\n",
    "plt.show()\n",
    "plt.ioff()\n"
   ]
  },
  {
   "cell_type": "code",
   "execution_count": 88,
   "metadata": {},
   "outputs": [],
   "source": [
    "\n",
    "plt.plot(lr_fit.coef_.T)\n",
    "plt.show()"
   ]
  },
  {
   "cell_type": "code",
   "execution_count": null,
   "metadata": {},
   "outputs": [],
   "source": []
  }
 ],
 "metadata": {
  "kernelspec": {
   "display_name": "Python 3",
   "language": "python",
   "name": "python3"
  },
  "language_info": {
   "codemirror_mode": {
    "name": "ipython",
    "version": 3
   },
   "file_extension": ".py",
   "mimetype": "text/x-python",
   "name": "python",
   "nbconvert_exporter": "python",
   "pygments_lexer": "ipython3",
   "version": "3.6.5"
  }
 },
 "nbformat": 4,
 "nbformat_minor": 2
}
